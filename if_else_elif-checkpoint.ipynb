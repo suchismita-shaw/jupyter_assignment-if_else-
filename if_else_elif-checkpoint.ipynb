{
 "cells": [
  {
   "cell_type": "markdown",
   "id": "9b87c1df-da24-4d02-b589-594c5047d114",
   "metadata": {},
   "source": [
    "#if statement"
   ]
  },
  {
   "cell_type": "code",
   "execution_count": 1,
   "id": "8238a60e-8d4c-4ce9-8961-a24036dd4d8f",
   "metadata": {},
   "outputs": [
    {
     "name": "stdin",
     "output_type": "stream",
     "text": [
      "enter your age 19\n"
     ]
    },
    {
     "name": "stdout",
     "output_type": "stream",
     "text": [
      "you can apply for license\n",
      "speed thrills but kills\n"
     ]
    }
   ],
   "source": [
    "age= int(input(\"enter your age\"))\n",
    "if age>18:\n",
    "    print(\"you can apply for license\")\n",
    "print(\"speed thrills but kills\")"
   ]
  },
  {
   "cell_type": "code",
   "execution_count": 2,
   "id": "3d75ddad-e01e-4ce3-aa79-5965c7a9167b",
   "metadata": {},
   "outputs": [
    {
     "name": "stdin",
     "output_type": "stream",
     "text": [
      "enter your age 12\n"
     ]
    },
    {
     "name": "stdout",
     "output_type": "stream",
     "text": [
      "speed thrills but kills\n"
     ]
    }
   ],
   "source": [
    "age= int(input(\"enter your age\"))\n",
    "if age>18:\n",
    "    print(\"you can apply for license\")\n",
    "print(\"speed thrills but kills\")"
   ]
  },
  {
   "cell_type": "markdown",
   "id": "299f83eb-2e08-42fe-a3a2-ec2f74d2a378",
   "metadata": {},
   "source": [
    "#if..else statement"
   ]
  },
  {
   "cell_type": "code",
   "execution_count": 3,
   "id": "ec0b007b-6122-48ff-b8e8-1acad0d270b6",
   "metadata": {},
   "outputs": [
    {
     "name": "stdin",
     "output_type": "stream",
     "text": [
      "enter your age 20\n"
     ]
    },
    {
     "name": "stdout",
     "output_type": "stream",
     "text": [
      "you can apply for licwnse\n"
     ]
    }
   ],
   "source": [
    "age= int(input(\"enter your age\"))\n",
    "if age>18:\n",
    "    print(\"you can apply for licwnse\")\n",
    "else:\n",
    "    print(\"not eligible\")"
   ]
  },
  {
   "cell_type": "code",
   "execution_count": 4,
   "id": "19a05a1b-0ac5-4092-a077-c09ad1297c24",
   "metadata": {},
   "outputs": [
    {
     "name": "stdin",
     "output_type": "stream",
     "text": [
      "enter your age 14\n"
     ]
    },
    {
     "name": "stdout",
     "output_type": "stream",
     "text": [
      "not eligible\n"
     ]
    }
   ],
   "source": [
    "age= int(input(\"enter your age\"))\n",
    "if age>18:\n",
    "    print(\"you can apply for licwnse\")\n",
    "else:\n",
    "    print(\"not eligible\")"
   ]
  },
  {
   "cell_type": "markdown",
   "id": "7f5e5d07-be7d-495b-b12e-b547a227a7bf",
   "metadata": {},
   "source": [
    "#if..else..elif statement\n"
   ]
  },
  {
   "cell_type": "code",
   "execution_count": 1,
   "id": "8b1f330c-c038-491e-9f5a-7dda49c6f434",
   "metadata": {},
   "outputs": [
    {
     "name": "stdin",
     "output_type": "stream",
     "text": [
      "enter number 10\n"
     ]
    },
    {
     "name": "stdout",
     "output_type": "stream",
     "text": [
      "x is greater than 5\n",
      "Done\n"
     ]
    }
   ],
   "source": [
    "x = int(input(\"enter number\"))\n",
    "if x== 5:\n",
    "    print(\"x is 5\")\n",
    "elif x<5 :\n",
    "    print(\"x is less than 5\")\n",
    "else:\n",
    "    print(\"x is greater than 5\")\n",
    "    print(\"Done\")"
   ]
  },
  {
   "cell_type": "code",
   "execution_count": 2,
   "id": "cfd9c0b4-a4a7-4d50-aa79-7b4378fd75d9",
   "metadata": {},
   "outputs": [
    {
     "name": "stdin",
     "output_type": "stream",
     "text": [
      "enter number 4\n"
     ]
    },
    {
     "name": "stdout",
     "output_type": "stream",
     "text": [
      "x is less than 5\n"
     ]
    }
   ],
   "source": [
    "x = int(input(\"enter number\"))\n",
    "if x== 5:\n",
    "    print(\"x is 5\")\n",
    "elif x<5 :\n",
    "    print(\"x is less than 5\")\n",
    "else:\n",
    "    print(\"x is greater than 5\")\n",
    "    print(\"Done\")"
   ]
  },
  {
   "cell_type": "code",
   "execution_count": 3,
   "id": "02365c0c-cbd0-4420-b5e5-3df3ba96ee6a",
   "metadata": {},
   "outputs": [
    {
     "name": "stdin",
     "output_type": "stream",
     "text": [
      "Enter a number:  67.5\n"
     ]
    },
    {
     "name": "stdout",
     "output_type": "stream",
     "text": [
      "The number is positive.\n"
     ]
    }
   ],
   "source": [
    "number = float(input(\"Enter a number: \"))\n",
    "if number > 0:\n",
    "    print(\"The number is positive.\")\n",
    "elif number < 0:\n",
    "      print(\"The number is negative.\")\n",
    "else:\n",
    "    print(\"The number is zero.\")"
   ]
  },
  {
   "cell_type": "code",
   "execution_count": 4,
   "id": "d3a3c0f5-ba50-42c2-bd0e-610d7529bc22",
   "metadata": {},
   "outputs": [
    {
     "name": "stdin",
     "output_type": "stream",
     "text": [
      "Enter a number:  0\n"
     ]
    },
    {
     "name": "stdout",
     "output_type": "stream",
     "text": [
      "The number is zero.\n"
     ]
    }
   ],
   "source": [
    "number = float(input(\"Enter a number: \"))\n",
    "if number > 0:\n",
    "    print(\"The number is positive.\")\n",
    "elif number < 0:\n",
    "      print(\"The number is negative.\")\n",
    "else:\n",
    "    print(\"The number is zero.\")"
   ]
  },
  {
   "cell_type": "code",
   "execution_count": null,
   "id": "63dae368-2989-4906-9928-ac4f90c139d8",
   "metadata": {},
   "outputs": [],
   "source": []
  }
 ],
 "metadata": {
  "kernelspec": {
   "display_name": "Python 3 (ipykernel)",
   "language": "python",
   "name": "python3"
  },
  "language_info": {
   "codemirror_mode": {
    "name": "ipython",
    "version": 3
   },
   "file_extension": ".py",
   "mimetype": "text/x-python",
   "name": "python",
   "nbconvert_exporter": "python",
   "pygments_lexer": "ipython3",
   "version": "3.12.3"
  }
 },
 "nbformat": 4,
 "nbformat_minor": 5
}
